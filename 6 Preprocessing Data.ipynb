{
 "cells": [
  {
   "cell_type": "markdown",
   "metadata": {},
   "source": [
    "# Data Preprocessing for Vision tasks\n",
    "\n",
    "One of the most important step in computer vision tasks is data preprocessing. Once we got the dataset, we need to make sure that our dataset matches our requirement. Main reasons for preprocessing are to improve data quality, improve model quality and to make the data shape.\n",
    "\n",
    "To do the preprocessing operations we can use the tensor library or keras api (Personally I think keras API makes more sense to use in preprocessing steps as it does not change very often).\n",
    "\n",
    "The advantage of using such preprocessing layer is that then it becomes a part of the ML model. Therefore we do not need to make processing pipelines to handle data during inferencing phase. "
   ]
  },
  {
   "cell_type": "markdown",
   "metadata": {},
   "source": [
    "## Data augmenting\n",
    "\n",
    "Another application of data preprocessing is to make augmented datasets. In many ML applications it is hard to find a large enough dataset for our work. Also sometimes it is better to train our model in different variations of same image for more robust outputs and data augmentation is a way to achieve that.\n",
    "\n",
    "### Spatial Transformations\n",
    "\n",
    "Under this technique we do random cropping, zooming, cropping flipping, rotation etc. This transformation makes the dataset larger by providing more varieties of same types of image.\n",
    "\n",
    "But depending on the usecase this transformation need to be chose wisely. For example if we flipped an image vertically it may not be a useful data point for a ML model. Keras api provides several augmentation layers including random translation, rotation, zoom, flip and so on.\n",
    "\n"
   ]
  },
  {
   "cell_type": "code",
   "execution_count": null,
   "metadata": {},
   "outputs": [],
   "source": []
  },
  {
   "cell_type": "code",
   "execution_count": null,
   "metadata": {},
   "outputs": [],
   "source": []
  },
  {
   "cell_type": "code",
   "execution_count": null,
   "metadata": {},
   "outputs": [],
   "source": []
  },
  {
   "cell_type": "code",
   "execution_count": null,
   "metadata": {},
   "outputs": [],
   "source": []
  },
  {
   "cell_type": "code",
   "execution_count": null,
   "metadata": {},
   "outputs": [],
   "source": []
  }
 ],
 "metadata": {
  "language_info": {
   "name": "python"
  },
  "orig_nbformat": 4
 },
 "nbformat": 4,
 "nbformat_minor": 2
}
